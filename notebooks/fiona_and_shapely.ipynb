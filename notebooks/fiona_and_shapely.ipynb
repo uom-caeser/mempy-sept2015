{
 "cells": [
  {
   "cell_type": "code",
   "execution_count": 30,
   "metadata": {
    "collapsed": false,
    "slideshow": {
     "slide_type": "slide"
    }
   },
   "outputs": [],
   "source": [
    "import numpy as np\n",
    "import matplotlib.pyplot as plt\n",
    "import fiona\n",
    "import geopandas as gpd\n",
    "import rasterio\n",
    "from rasterstats import zonal_stats\n",
    "import mplleaflet as leaflet\n",
    "\n",
    "%matplotlib inline"
   ]
  },
  {
   "cell_type": "code",
   "execution_count": 47,
   "metadata": {
    "collapsed": false
   },
   "outputs": [
    {
     "name": "stdout",
     "output_type": "stream",
     "text": [
      "{'init': u'epsg:2274'}\n"
     ]
    }
   ],
   "source": [
    "block_groups_layer = fiona.open('../data/study_area_blockgroups.geojson')\n",
    "crs = block_groups_layer.crs\n",
    "print crs\n",
    "#block_groups = gpd.GeoDataFrame\n",
    "#block_groups.plot()"
   ]
  },
  {
   "cell_type": "code",
   "execution_count": 40,
   "metadata": {
    "collapsed": false
   },
   "outputs": [
    {
     "name": "stdout",
     "output_type": "stream",
     "text": [
      "0     (POLYGON ((762828.9319091439 311275.3030356467...\n",
      "1     (POLYGON ((763230.9143728912 306589.824873805,...\n",
      "2     (POLYGON ((765885.0544058084 307388.7809530646...\n",
      "3     (POLYGON ((771910.1394684762 309559.1535808146...\n",
      "4     (POLYGON ((766191.9409311414 311678.5656805634...\n",
      "5     (POLYGON ((770691.0854761302 312076.4543204755...\n",
      "6     (POLYGON ((769217.3020063937 307317.5324078947...\n",
      "7     (POLYGON ((767762.344614476 309444.9976411462,...\n",
      "8     (POLYGON ((770866.2383410484 306880.5677306503...\n",
      "9     (POLYGON ((772498.1635548919 314831.6331933141...\n",
      "10    (POLYGON ((770704.0611719638 312261.7154328972...\n",
      "11    (POLYGON ((766460.5289766341 314986.673565641,...\n",
      "12    (POLYGON ((763346.3750999719 308454.670553565,...\n",
      "13    (POLYGON ((772054.9807142168 310875.2674183995...\n",
      "14    (POLYGON ((766225.5264938921 312131.4689742327...\n",
      "15    (POLYGON ((769518.2262732983 312225.7929325551...\n",
      "16    (POLYGON ((762080.2664117217 313051.5567009747...\n",
      "Name: geometry, dtype: object\n"
     ]
    }
   ],
   "source": [
    "print block_groups['geometry']"
   ]
  },
  {
   "cell_type": "code",
   "execution_count": 41,
   "metadata": {
    "collapsed": false,
    "scrolled": true
   },
   "outputs": [],
   "source": [
    "stats = zonal_stats(block_groups['geometry'], '../data/land_cover_classification.tif', categorical=True)"
   ]
  },
  {
   "cell_type": "code",
   "execution_count": 42,
   "metadata": {
    "collapsed": false
   },
   "outputs": [
    {
     "name": "stdout",
     "output_type": "stream",
     "text": [
      "[{1: 269, 2: 196254, 3: 349029, 4: 4911, 5: 259290, '__fid__': 0}, {1: 150, 2: 91668, 3: 175596, 4: 898, 5: 155755, '__fid__': 1}, {1: 529, 2: 202581, 3: 202697, 4: 3203, 5: 334161, '__fid__': 2}, {1: 615, 2: 143505, 3: 98143, 4: 67, 5: 151768, '__fid__': 3}, {1: 436, 2: 194610, 3: 217200, 4: 2191, 5: 621799, '__fid__': 4}, {1: 230, 2: 89213, 3: 81108, 4: 35, 5: 97282, '__fid__': 5}, {1: 605, 2: 125997, 3: 131237, 4: 178, 5: 144438, '__fid__': 6}, {1: 18, 2: 43090, 3: 61314, 4: 28, 5: 82616, '__fid__': 7}, {1: 2041, 2: 349833, 3: 292514, 4: 536, 5: 321951, '__fid__': 8}, {1: 751, 2: 224830, 3: 87413, 4: 93, 5: 168125, '__fid__': 9}, {1: 332, 2: 302274, 3: 130955, 4: 288, 5: 208645, '__fid__': 10}, {1: 199, 2: 155804, 3: 48484, 4: 11, 5: 109736, '__fid__': 11}, {1: 476, 2: 100630, 3: 133991, 4: 144, 5: 177928, '__fid__': 12}, {1: 334, 2: 197179, 3: 132367, 4: 413, 5: 217923, '__fid__': 13}, {1: 1120, 2: 248771, 3: 118418, 4: 1846, 5: 336949, '__fid__': 14}, {1: 318, 2: 200663, 3: 53686, 4: 23, 5: 138296, '__fid__': 15}, {1: 692, 2: 190903, 3: 323070, 4: 9450, 5: 758435, '__fid__': 16}]\n"
     ]
    }
   ],
   "source": [
    "print stats"
   ]
  },
  {
   "cell_type": "code",
   "execution_count": 45,
   "metadata": {
    "collapsed": false
   },
   "outputs": [
    {
     "data": {
      "text/html": [
       "<head>\n",
       "  <link rel=\"stylesheet\" href=\"http://cdn.leafletjs.com/leaflet-0.7.1/leaflet.css\" />\n",
       "  <script src=\"http://cdn.leafletjs.com/leaflet-0.7.1/leaflet.js\"></script>\n",
       "  <style>\n",
       "    .leaflet-container .leaflet-tile {\n",
       "       margin: 0;\n",
       "    }\n",
       "    .leaflet-control-zoom-in {\n",
       "        text-decoration: none !important;\n",
       "    }\n",
       "    .leaflet-control-zoom-out {\n",
       "        text-decoration: none !important;\n",
       "    }\n",
       "    #mapa5d6fec741244920a0c056d815991fca {\n",
       "      height:320.0px;\n",
       "    }\n",
       "  </style> \n",
       "</head>\n",
       "<body>\n",
       "  <div id=\"mapa5d6fec741244920a0c056d815991fca\"></div>\n",
       "<script text=\"text/javascript\">\n",
       "funca5d6fec741244920a0c056d815991fca = function() {\n",
       "var map = L.map('mapa5d6fec741244920a0c056d815991fca');\n",
       "L.tileLayer(\n",
       "  \"http://{s}.tile.openstreetmap.org/{z}/{x}/{y}.png\",\n",
       "  {maxZoom:19, attribution: '<a href=\"https://github.com/jwass/mplleaflet\">mplleaflet</a> | Map data (c) <a href=\"http://openstreetmap.org\">OpenStreetMap</a> contributors'}).addTo(map);\n",
       "var gjData = {\"type\": \"FeatureCollection\", \"features\": []};\n",
       "\n",
       "if (gjData.features.length != 0) {\n",
       "  var gj = L.geoJson(gjData, {\n",
       "    style: function (feature) {\n",
       "      return feature.properties;\n",
       "    },\n",
       "    pointToLayer: function (feature, latlng) {\n",
       "      var icon = L.divIcon({'html': feature.properties.html, \n",
       "        iconAnchor: [feature.properties.anchor_x, \n",
       "                     feature.properties.anchor_y], \n",
       "          className: 'empty'});  // What can I do about empty?\n",
       "      return L.marker(latlng, {icon: icon});\n",
       "    }\n",
       "  });\n",
       "  gj.addTo(map);\n",
       "  \n",
       "  map.fitBounds(gj.getBounds());\n",
       "} else {\n",
       "  map.setView([0, 0], 1);\n",
       "}\n",
       "\n",
       "}\n",
       "setTimeout(function() { funca5d6fec741244920a0c056d815991fca() }, 2000);\n",
       "</script>\n",
       "</body>"
      ],
      "text/plain": [
       "<IPython.core.display.HTML object>"
      ]
     },
     "execution_count": 45,
     "metadata": {},
     "output_type": "execute_result"
    }
   ],
   "source": [
    "leaflet.display()"
   ]
  },
  {
   "cell_type": "code",
   "execution_count": null,
   "metadata": {
    "collapsed": true
   },
   "outputs": [],
   "source": []
  }
 ],
 "metadata": {
  "kernelspec": {
   "display_name": "Python 2",
   "language": "python",
   "name": "python2"
  },
  "language_info": {
   "codemirror_mode": {
    "name": "ipython",
    "version": 2
   },
   "file_extension": ".py",
   "mimetype": "text/x-python",
   "name": "python",
   "nbconvert_exporter": "python",
   "pygments_lexer": "ipython2",
   "version": "2.7.6"
  }
 },
 "nbformat": 4,
 "nbformat_minor": 0
}
