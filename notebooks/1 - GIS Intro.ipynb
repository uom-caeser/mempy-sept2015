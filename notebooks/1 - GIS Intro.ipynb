{
 "cells": [
  {
   "cell_type": "markdown",
   "metadata": {
    "slideshow": {
     "slide_type": "slide"
    }
   },
   "source": [
    "# Intro to working with geospatial information with Python\n",
    "\n",
    "## Center for Applied Earth Science and Engineering Research, University of Memphis\n",
    "\n",
    "Nate Ron-Ferguson and Eric Goddard"
   ]
  },
  {
   "cell_type": "markdown",
   "metadata": {
    "slideshow": {
     "slide_type": "slide"
    }
   },
   "source": [
    "### Outline\n",
    "1. GIS crash course\n",
    "2. Reading/Writing Vectors\n",
    "3. Simple spatial analysis using rasters and vectors\n",
    "4. visualization"
   ]
  },
  {
   "cell_type": "markdown",
   "metadata": {
    "slideshow": {
     "slide_type": "slide"
    }
   },
   "source": [
    "## GIS crash course\n",
    "- GIS: A system for managing, analyzing, and visualizing data that has a spatial component\n",
    "    - database + spatial functions + visualization interface"
   ]
  },
  {
   "cell_type": "markdown",
   "metadata": {},
   "source": [
    "## GIS crash course\n",
    "### Vector data types\n",
    "    - Points\n",
    "    - Lines\n",
    "    - Polygons"
   ]
  },
  {
   "cell_type": "code",
   "execution_count": 5,
   "metadata": {
    "collapsed": false
   },
   "outputs": [
    {
     "name": "stdout",
     "output_type": "stream",
     "text": [
      "POINT (-89.990988 35.121078)\n",
      "LINESTRING (-89.990988 35.121078, -89.99078900000001 35.125022)\n",
      "POLYGON ((-89.98399999999999 35.119, -89.98399999999999 35.122, -89.99299999999999 35.122, -89.98399999999999 35.119))\n"
     ]
    }
   ],
   "source": [
    "from shapely.geometry import Point, LineString, Polygon\n",
    "import geopandas as gpd\n",
    "%matplotlib inline\n",
    "\n",
    "# Point(x, y) -- Google Maps lists these in reverse order!\n",
    "point = Point(-89.990988, 35.121078)\n",
    "print(point)\n",
    "\n",
    "# LineString([(x1, y1), (x2, y2), ...])\n",
    "line = LineString([(-89.990988, 35.121078), (-89.990789, 35.125022)])\n",
    "print(line)\n",
    "\n",
    "# Polygon - same as a Linestring, but the first and last coordinates must be the same\n",
    "polygon = Polygon([(-89.984, 35.119), (-89.984, 35.122), (-89.993, 35.122), (-89.984, 35.119)])\n",
    "print(polygon)"
   ]
  },
  {
   "cell_type": "code",
   "execution_count": 6,
   "metadata": {
    "collapsed": false,
    "scrolled": true
   },
   "outputs": [
    {
     "data": {
      "image/png": "[encoded data removed]",
      "text/plain": [
       "<matplotlib.figure.Figure at 0x7f48623c8710>"
      ]
     },
     "metadata": {},
     "output_type": "display_data"
    }
   ],
   "source": [
    "# Create a geopandas GeoSeries containing our point, line and polygon\n",
    "geoseries = gpd.GeoSeries([point, line, polygon])\n",
    "plot = geoseries.plot(colormap='Dark2')"
   ]
  },
  {
   "cell_type": "code",
   "execution_count": 7,
   "metadata": {
    "collapsed": false
   },
   "outputs": [
    {
     "data": {
      "text/html": [
       "<iframe src=\"data:text/html;base64,PGhlYWQ+CiAgICA8c2NyaXB0IHNyYz0iaHR0cHM6Ly9jZG5qcy5jbG91ZGZsYXJlLmNvbS9hamF4\n",
       "L2xpYnMvbGVhZmxldC8wLjcuMy9sZWFmbGV0LmpzIj48L3NjcmlwdD4KICAgIDxsaW5rIHJlbD0i\n",
       "c3R5bGVzaGVldCIgaHJlZj0iaHR0cHM6Ly9jZG5qcy5jbG91ZGZsYXJlLmNvbS9hamF4L2xpYnMv\n",
       "bGVhZmxldC8wLjcuMy9sZWFmbGV0LmNzcyIgLz4KICA8c3R5bGU+CiAgICAjbWFwMzAzYTczZTI1\n",
       "NGQ0NDRlMGExNzBhZDAyNjM5YTBjYjkgewogICAgICBoZWlnaHQ6MTAwJTsKICAgIH0KICA8L3N0\n",
       "eWxlPiAKPC9oZWFkPgo8Ym9keT4KICA8ZGl2IGlkPSJtYXAzMDNhNzNlMjU0ZDQ0NGUwYTE3MGFk\n",
       "MDI2MzlhMGNiOSI+PC9kaXY+CjxzY3JpcHQgdGV4dD0idGV4dC9qYXZhc2NyaXB0Ij4KdmFyIG1h\n",
       "cCA9IEwubWFwKCdtYXAzMDNhNzNlMjU0ZDQ0NGUwYTE3MGFkMDI2MzlhMGNiOScpOwpMLnRpbGVM\n",
       "YXllcigKICAiaHR0cDovL3tzfS5iYXNlbWFwcy5jYXJ0b2Nkbi5jb20vbGlnaHRfYWxsL3t6fS97\n",
       "eH0ve3l9LnBuZyIsCiAge21heFpvb206MTksIGF0dHJpYnV0aW9uOiAnPGEgaHJlZj0iaHR0cHM6\n",
       "Ly9naXRodWIuY29tL2p3YXNzL21wbGxlYWZsZXQiPm1wbGxlYWZsZXQ8L2E+IHwgJmNvcHk7IDxh\n",
       "IGhyZWY9Imh0dHA6Ly93d3cub3BlbnN0cmVldG1hcC5vcmcvY29weXJpZ2h0Ij5PcGVuU3RyZWV0\n",
       "TWFwPC9hPiAmY29weTsgPGEgaHJlZj0iaHR0cDovL2NhcnRvZGIuY29tL2F0dHJpYnV0aW9ucyI+\n",
       "Q2FydG9EQjwvYT4nfSkuYWRkVG8obWFwKTsKdmFyIGdqRGF0YSA9IHsidHlwZSI6ICJGZWF0dXJl\n",
       "Q29sbGVjdGlvbiIsICJmZWF0dXJlcyI6IFt7Imdlb21ldHJ5IjogeyJ0eXBlIjogIkxpbmVTdHJp\n",
       "bmciLCAiY29vcmRpbmF0ZXMiOiBbWy04OS45OTA5ODgsIDM1LjEyMTA3OF1dfSwgInR5cGUiOiAi\n",
       "RmVhdHVyZSIsICJwcm9wZXJ0aWVzIjogeyJjb2xvciI6ICIjMDAwMEZGIiwgIm9wYWNpdHkiOiAx\n",
       "LCAid2VpZ2h0IjogMH19LCB7Imdlb21ldHJ5IjogeyJ0eXBlIjogIlBvaW50IiwgImNvb3JkaW5h\n",
       "dGVzIjogWy04OS45OTA5ODgsIDM1LjEyMTA3OF19LCAidHlwZSI6ICJGZWF0dXJlIiwgInByb3Bl\n",
       "cnRpZXMiOiB7ImFuY2hvcl94IjogMS41LCAiaHRtbCI6ICI8c3ZnIHdpZHRoPVwiM3B4XCIgaGVp\n",
       "Z2h0PVwiM3B4XCIgdmlld0JveD1cIi0xLjUgLTEuNSAzLjAgMy4wXCIgeG1sbnM9XCJodHRwOi8v\n",
       "d3d3LnczLm9yZy8yMDAwL3N2Z1wiIHZlcnNpb249XCIxLjFcIj4gIDxwYXRoIGQ9XCJNIDAuMCAt\n",
       "MS4wIEMgMC4yNjUyMDMxIC0xLjAgMC41MTk1Nzk4NzA3ODUgLTAuODk0NjMzNjkxNTg4IDAuNzA3\n",
       "MTA2NzgxMTg3IC0wLjcwNzEwNjc4MTE4NyBDIDAuODk0NjMzNjkxNTg4IC0wLjUxOTU3OTg3MDc4\n",
       "NSAxLjAgLTAuMjY1MjAzMSAxLjAgLTAuMCBDIDEuMCAwLjI2NTIwMzEgMC44OTQ2MzM2OTE1ODgg\n",
       "MC41MTk1Nzk4NzA3ODUgMC43MDcxMDY3ODExODcgMC43MDcxMDY3ODExODcgQyAwLjUxOTU3OTg3\n",
       "MDc4NSAwLjg5NDYzMzY5MTU4OCAwLjI2NTIwMzEgMS4wIDAuMCAxLjAgQyAtMC4yNjUyMDMxIDEu\n",
       "MCAtMC41MTk1Nzk4NzA3ODUgMC44OTQ2MzM2OTE1ODggLTAuNzA3MTA2NzgxMTg3IDAuNzA3MTA2\n",
       "NzgxMTg3IEMgLTAuODk0NjMzNjkxNTg4IDAuNTE5NTc5ODcwNzg1IC0xLjAgMC4yNjUyMDMxIC0x\n",
       "LjAgLTAuMCBDIC0xLjAgLTAuMjY1MjAzMSAtMC44OTQ2MzM2OTE1ODggLTAuNTE5NTc5ODcwNzg1\n",
       "IC0wLjcwNzEwNjc4MTE4NyAtMC43MDcxMDY3ODExODcgQyAtMC41MTk1Nzk4NzA3ODUgLTAuODk0\n",
       "NjMzNjkxNTg4IC0wLjI2NTIwMzEgLTEuMCAwLjAgLTEuMCBaXCIgZmlsbC1vcGFjaXR5PVwiMVwi\n",
       "IHN0cm9rZT1cIiMwMDAwMDBcIiBzdHJva2Utd2lkdGg9XCIwLjVcIiBzdHJva2Utb3BhY2l0eT1c\n",
       "IjFcIiBmaWxsPVwiIzAwMDBGRlwiIC8+PC9zdmc+IiwgImFuY2hvcl95IjogMS41fX0sIHsiZ2Vv\n",
       "bWV0cnkiOiB7InR5cGUiOiAiTGluZVN0cmluZyIsICJjb29yZGluYXRlcyI6IFtbLTg5Ljk5MDk4\n",
       "OCwgMzUuMTIxMDc4XSwgWy04OS45OTA3ODksIDM1LjEyNTAyMl1dfSwgInR5cGUiOiAiRmVhdHVy\n",
       "ZSIsICJwcm9wZXJ0aWVzIjogeyJjb2xvciI6ICIjMUI5RTc3IiwgIm9wYWNpdHkiOiAxLCAid2Vp\n",
       "Z2h0IjogMX19LCB7Imdlb21ldHJ5IjogeyJ0eXBlIjogIkxpbmVTdHJpbmciLCAiY29vcmRpbmF0\n",
       "ZXMiOiBbWy04OS45ODQsIDM1LjExOV0sIFstODkuOTg0LCAzNS4xMjJdLCBbLTg5Ljk5MywgMzUu\n",
       "MTIyXSwgWy04OS45ODQsIDM1LjExOV1dfSwgInR5cGUiOiAiRmVhdHVyZSIsICJwcm9wZXJ0aWVz\n",
       "IjogeyJjb2xvciI6ICIjMDAwMDAwIiwgIm9wYWNpdHkiOiAxLCAid2VpZ2h0IjogMS4wfX0sIHsi\n",
       "Z2VvbWV0cnkiOiB7InR5cGUiOiAiUG9seWdvbiIsICJjb29yZGluYXRlcyI6IFtbWy04OS45ODQs\n",
       "IDM1LjExOV0sIFstODkuOTg0LCAzNS4xMjJdLCBbLTg5Ljk5MywgMzUuMTIyXSwgWy04OS45ODQs\n",
       "IDM1LjExOV1dXX0sICJ0eXBlIjogIkZlYXR1cmUiLCAicHJvcGVydGllcyI6IHsiY29sb3IiOiAi\n",
       "IzAwMDAwMCIsICJvcGFjaXR5IjogMC41LCAiZmlsbENvbG9yIjogIiNBNjY3NTQiLCAid2VpZ2h0\n",
       "IjogMS4wfX1dfTsKCmlmIChnakRhdGEuZmVhdHVyZXMubGVuZ3RoICE9IDApIHsKICB2YXIgZ2og\n",
       "PSBMLmdlb0pzb24oZ2pEYXRhLCB7CiAgICBzdHlsZTogZnVuY3Rpb24gKGZlYXR1cmUpIHsKICAg\n",
       "ICAgcmV0dXJuIGZlYXR1cmUucHJvcGVydGllczsKICAgIH0sCiAgICBwb2ludFRvTGF5ZXI6IGZ1\n",
       "bmN0aW9uIChmZWF0dXJlLCBsYXRsbmcpIHsKICAgICAgdmFyIGljb24gPSBMLmRpdkljb24oeydo\n",
       "dG1sJzogZmVhdHVyZS5wcm9wZXJ0aWVzLmh0bWwsIAogICAgICAgIGljb25BbmNob3I6IFtmZWF0\n",
       "dXJlLnByb3BlcnRpZXMuYW5jaG9yX3gsIAogICAgICAgICAgICAgICAgICAgICBmZWF0dXJlLnBy\n",
       "b3BlcnRpZXMuYW5jaG9yX3ldLCAKICAgICAgICAgIGNsYXNzTmFtZTogJ2VtcHR5J30pOyAgLy8g\n",
       "V2hhdCBjYW4gSSBkbyBhYm91dCBlbXB0eT8KICAgICAgcmV0dXJuIEwubWFya2VyKGxhdGxuZywg\n",
       "e2ljb246IGljb259KTsKICAgIH0KICB9KTsKICBnai5hZGRUbyhtYXApOwogIAogIG1hcC5maXRC\n",
       "b3VuZHMoZ2ouZ2V0Qm91bmRzKCkpOwp9IGVsc2UgewogIG1hcC5zZXRWaWV3KFswLCAwXSwgMSk7\n",
       "Cn0KPC9zY3JpcHQ+CjwvYm9keT4=\n",
       "\" width=\"100%\" height=\"240\"></iframe>"
      ],
      "text/plain": [
       "<IPython.core.display.HTML object>"
      ]
     },
     "execution_count": 7,
     "metadata": {},
     "output_type": "execute_result"
    }
   ],
   "source": [
    "import mplleaflet\n",
    "mplleaflet.display(fig=plot.figure, epsg=4326, tiles=\"cartodb_positron\")"
   ]
  },
  {
   "cell_type": "markdown",
   "metadata": {
    "collapsed": false
   },
   "source": [
    "### Data Types - Raster\n",
    "    - Imagery. Rows and columns of pixel values.\n",
    "    - Examples: Elevation data, land cover data, cat photos, etc.\n",
    "    "
   ]
  },
  {
   "cell_type": "markdown",
   "metadata": {
    "collapsed": true
   },
   "source": [
    "### Scale\n",
    "    - Large Scale - A small area with a lot of detail"
   ]
  },
  {
   "cell_type": "code",
   "execution_count": 8,
   "metadata": {
    "collapsed": false,
    "scrolled": true
   },
   "outputs": [
    {
     "data": {
      "text/html": [
       "<img src=\"https://github.com/egoddard/geospatial_colloquium/raw/gh-pages/images/large-scale.png\"/>"
      ],
      "text/plain": [
       "<IPython.core.display.Image object>"
      ]
     },
     "execution_count": 8,
     "metadata": {},
     "output_type": "execute_result"
    }
   ],
   "source": [
    "import IPython.display as disp\n",
    "disp.Image(url='https://github.com/egoddard/geospatial_colloquium/raw/gh-pages/images/large-scale.png')"
   ]
  },
  {
   "cell_type": "markdown",
   "metadata": {},
   "source": [
    "    - Small Scale - A Large area with a lot of detail"
   ]
  },
  {
   "cell_type": "code",
   "execution_count": 9,
   "metadata": {
    "collapsed": false
   },
   "outputs": [
    {
     "data": {
      "text/html": [
       "<img src=\"https://github.com/egoddard/geospatial_colloquium/raw/gh-pages/images/small-scale.png\"/>"
      ],
      "text/plain": [
       "<IPython.core.display.Image object>"
      ]
     },
     "execution_count": 9,
     "metadata": {},
     "output_type": "execute_result"
    }
   ],
   "source": [
    "disp.Image(url='https://github.com/egoddard/geospatial_colloquium/raw/gh-pages/images/small-scale.png')"
   ]
  },
  {
   "cell_type": "markdown",
   "metadata": {
    "collapsed": true
   },
   "source": [
    "### Projections\n",
    "    - Projections - how you transform a sphere to be represented on a flat surface\n",
    "    - Many different kinds of projections\n",
    "    - Most important projections concept:\n",
    "        - you can preserve area OR distances OR shape OR direction, or some combination of those properties but not all."
   ]
  },
  {
   "cell_type": "code",
   "execution_count": 14,
   "metadata": {
    "collapsed": false
   },
   "outputs": [
    {
     "data": {
      "text/html": [
       "<img src=\"https://raw.githubusercontent.com/egoddard/geospatial_colloquium/gh-pages/images/projections.png\"/>"
      ],
      "text/plain": [
       "<IPython.core.display.Image object>"
      ]
     },
     "execution_count": 14,
     "metadata": {},
     "output_type": "execute_result"
    }
   ],
   "source": [
    "disp.Image(url='https://raw.githubusercontent.com/egoddard/geospatial_colloquium/gh-pages/images/projections.png')"
   ]
  },
  {
   "cell_type": "code",
   "execution_count": 15,
   "metadata": {
    "collapsed": false
   },
   "outputs": [
    {
     "data": {
      "text/html": [
       "<img src=\"https://raw.githubusercontent.com/egoddard/geospatial_colloquium/gh-pages/images/south_america_projections.gif\"/>"
      ],
      "text/plain": [
       "<IPython.core.display.Image object>"
      ]
     },
     "execution_count": 15,
     "metadata": {},
     "output_type": "execute_result"
    }
   ],
   "source": [
    "disp.Image(url='https://raw.githubusercontent.com/egoddard/geospatial_colloquium/gh-pages/images/south_america_projections.gif')"
   ]
  }
 ],
 "metadata": {
  "kernelspec": {
   "display_name": "Python 2",
   "language": "python",
   "name": "python2"
  },
  "language_info": {
   "codemirror_mode": {
    "name": "ipython",
    "version": 2
   },
   "file_extension": ".py",
   "mimetype": "text/x-python",
   "name": "python",
   "nbconvert_exporter": "python",
   "pygments_lexer": "ipython2",
   "version": "2.7.6"
  }
 },
 "nbformat": 4,
 "nbformat_minor": 0
}
