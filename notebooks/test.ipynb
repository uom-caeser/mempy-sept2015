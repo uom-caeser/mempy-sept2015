{
 "cells": [
  {
   "cell_type": "markdown",
   "metadata": {
    "slideshow": {
     "slide_type": "slide"
    }
   },
   "source": [
    "# Python for Community Analysis"
   ]
  },
  {
   "cell_type": "code",
   "execution_count": null,
   "metadata": {
    "collapsed": true,
    "slideshow": {
     "slide_type": "fragment"
    }
   },
   "outputs": [],
   "source": [
    "* Visualization\n",
    "* Analysis\n",
    "* Data management"
   ]
  },
  {
   "cell_type": "markdown",
   "metadata": {
    "collapsed": false,
    "slideshow": {
     "slide_type": "slide"
    }
   },
   "source": [
    "## Visualization"
   ]
  },
  {
   "cell_type": "markdown",
   "metadata": {
    "slideshow": {
     "slide_type": "subslide"
    }
   },
   "source": [
    "### Population Change"
   ]
  },
  {
   "cell_type": "code",
   "execution_count": 32,
   "metadata": {
    "collapsed": false,
    "slideshow": {
     "slide_type": "-"
    }
   },
   "outputs": [
    {
     "data": {
      "text/html": [
       "<img src=\"https://lh3.googleusercontent.com/6xQszoKVmlayP03Ilj42CZONFV5FsJ8lXM5qVRhNP3HunZwzWLUZsT_ut5QIfu3FxCK9JIpaKv9VNWc-HW8m5NoTSrEv5IDpDqq31vOo3tIn7elV9ea4BUXPmgJIihUhllKi771fOuvqDYBS-oyWcW3ZPr6IJVqaH5j172upwQ5ZgYfwyhZ2pdZcH-oi7ir0VveG4UxHuU4OFbmWr5x33BfXlKonD5Rod5bbrbhcdjqcKTCfVhltsJkzqetDoK0LfCQO0HQkYmo4b-2YaI3PKm4gWPAD3ChJbU0ohBhXvpN4r_ehBk0tTyJjS5qIAb7WBQtf5gIYxosM2L7o9IKR3rXi7CaNqFFcN2xDOlZGzQiR2atpcfy1F3Jq8t85KqFbGkA5AOBMwSioeXqaa7nvMGmSEnm7WexfCXddZdgnNA4pT1hNs__OrBeFZ0eaAN2fJ_uQAJyyLrjtGa3QsyCS3Br_JLBiGSNMsbf_eAfy3Zr7lEFvqx3ayeTTE-ffLbUKKQVJFM_7n4262Ma_DdNPQXgj3d4wSvZdJibiCEW5q38=w1192-h922-no\"/>"
      ],
      "text/plain": [
       "<IPython.core.display.Image object>"
      ]
     },
     "execution_count": 32,
     "metadata": {},
     "output_type": "execute_result"
    }
   ],
   "source": [
    "import IPython.display as disp\n",
    "disp.Image(url='https://lh3.googleusercontent.com/6xQszoKVmlayP03Ilj42CZONFV5FsJ8lXM5qVRhNP3HunZwzWLUZsT_ut5QIfu3FxCK9JIpaKv9VNWc-HW8m5NoTSrEv5IDpDqq31vOo3tIn7elV9ea4BUXPmgJIihUhllKi771fOuvqDYBS-oyWcW3ZPr6IJVqaH5j172upwQ5ZgYfwyhZ2pdZcH-oi7ir0VveG4UxHuU4OFbmWr5x33BfXlKonD5Rod5bbrbhcdjqcKTCfVhltsJkzqetDoK0LfCQO0HQkYmo4b-2YaI3PKm4gWPAD3ChJbU0ohBhXvpN4r_ehBk0tTyJjS5qIAb7WBQtf5gIYxosM2L7o9IKR3rXi7CaNqFFcN2xDOlZGzQiR2atpcfy1F3Jq8t85KqFbGkA5AOBMwSioeXqaa7nvMGmSEnm7WexfCXddZdgnNA4pT1hNs__OrBeFZ0eaAN2fJ_uQAJyyLrjtGa3QsyCS3Br_JLBiGSNMsbf_eAfy3Zr7lEFvqx3ayeTTE-ffLbUKKQVJFM_7n4262Ma_DdNPQXgj3d4wSvZdJibiCEW5q38=w1192-h922-no')"
   ]
  },
  {
   "cell_type": "code",
   "execution_count": 22,
   "metadata": {
    "collapsed": true,
    "slideshow": {
     "slide_type": "slide"
    }
   },
   "outputs": [],
   "source": [
    "## Tax "
   ]
  },
  {
   "cell_type": "code",
   "execution_count": null,
   "metadata": {
    "collapsed": true
   },
   "outputs": [],
   "source": []
  },
  {
   "cell_type": "code",
   "execution_count": null,
   "metadata": {
    "collapsed": true
   },
   "outputs": [],
   "source": []
  }
 ],
 "metadata": {
  "celltoolbar": "Slideshow",
  "kernelspec": {
   "display_name": "Python 2",
   "language": "python",
   "name": "python2"
  },
  "language_info": {
   "codemirror_mode": {
    "name": "ipython",
    "version": 2
   },
   "file_extension": ".py",
   "mimetype": "text/x-python",
   "name": "python",
   "nbconvert_exporter": "python",
   "pygments_lexer": "ipython2",
   "version": "2.7.6"
  }
 },
 "nbformat": 4,
 "nbformat_minor": 0
}
